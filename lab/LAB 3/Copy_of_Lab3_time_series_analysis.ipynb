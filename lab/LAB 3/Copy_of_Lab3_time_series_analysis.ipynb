{
  "cells": [
    {
      "cell_type": "markdown",
      "source": [
        "##**Load Time Series Dataset**\n",
        "We'll now explore trend and seasonality removal with examples. We'll be using famous air passenger datasets available on-line for our purpose because it has both trend and seasonality. It has information about US airline passengers from 1949 to 1960 recorded each month. Please download the dataset to follow along.\n",
        "\n",
        "*Air Passengers Dataset"
      ],
      "metadata": {
        "id": "PZMuNlN8cfzm"
      },
      "id": "PZMuNlN8cfzm"
    },
    {
      "cell_type": "code",
      "source": [
        "from google.colab import drive\n",
        "drive.mount('/content/drive')"
      ],
      "metadata": {
        "id": "9MUHpFyo6B88"
      },
      "id": "9MUHpFyo6B88",
      "execution_count": null,
      "outputs": []
    },
    {
      "cell_type": "code",
      "execution_count": null,
      "id": "4cd43567",
      "metadata": {
        "execution": {
          "iopub.execute_input": "2022-01-31T06:22:09.597412Z",
          "iopub.status.busy": "2022-01-31T06:22:09.591950Z",
          "iopub.status.idle": "2022-01-31T06:22:09.609674Z",
          "shell.execute_reply": "2022-01-31T06:22:09.610234Z",
          "shell.execute_reply.started": "2022-01-31T06:21:27.123469Z"
        },
        "papermill": {
          "duration": 0.05116,
          "end_time": "2022-01-31T06:22:09.610652",
          "exception": false,
          "start_time": "2022-01-31T06:22:09.559492",
          "status": "completed"
        },
        "tags": [],
        "id": "4cd43567"
      },
      "outputs": [],
      "source": [
        "# import pandas, numpy, matplotlib\n"
      ]
    },
    {
      "cell_type": "code",
      "execution_count": null,
      "id": "75bd4780",
      "metadata": {
        "execution": {
          "iopub.execute_input": "2022-01-31T06:22:09.660961Z",
          "iopub.status.busy": "2022-01-31T06:22:09.660123Z",
          "iopub.status.idle": "2022-01-31T06:22:09.676771Z",
          "shell.execute_reply": "2022-01-31T06:22:09.677402Z",
          "shell.execute_reply.started": "2022-01-31T06:21:27.133627Z"
        },
        "papermill": {
          "duration": 0.042882,
          "end_time": "2022-01-31T06:22:09.677637",
          "exception": false,
          "start_time": "2022-01-31T06:22:09.634755",
          "status": "completed"
        },
        "tags": [],
        "id": "75bd4780"
      },
      "outputs": [],
      "source": [
        "air_passengers= # read the data using pandas include (index_col=0, parse_dates=True)\n",
        "# preview data using head command"
      ]
    },
    {
      "cell_type": "code",
      "execution_count": null,
      "id": "5e7a4408",
      "metadata": {
        "execution": {
          "iopub.execute_input": "2022-01-31T06:22:09.754530Z",
          "iopub.status.busy": "2022-01-31T06:22:09.753516Z",
          "iopub.status.idle": "2022-01-31T06:22:09.760075Z",
          "shell.execute_reply": "2022-01-31T06:22:09.759467Z",
          "shell.execute_reply.started": "2022-01-31T06:21:27.154557Z"
        },
        "papermill": {
          "duration": 0.059557,
          "end_time": "2022-01-31T06:22:09.760233",
          "exception": false,
          "start_time": "2022-01-31T06:22:09.700676",
          "status": "completed"
        },
        "tags": [],
        "id": "5e7a4408"
      },
      "outputs": [],
      "source": [
        "air_passengers.plot(figsize=(8,4), color=\"tab:red\");"
      ]
    },
    {
      "cell_type": "code",
      "execution_count": null,
      "id": "1aeb7145",
      "metadata": {
        "execution": {
          "iopub.execute_input": "2022-01-31T06:22:09.814347Z",
          "iopub.status.busy": "2022-01-31T06:22:09.813602Z",
          "iopub.status.idle": "2022-01-31T06:22:09.817967Z",
          "shell.execute_reply": "2022-01-31T06:22:09.817424Z",
          "shell.execute_reply.started": "2022-01-31T06:21:27.183695Z"
        },
        "papermill": {
          "duration": 0.035295,
          "end_time": "2022-01-31T06:22:09.818146",
          "exception": false,
          "start_time": "2022-01-31T06:22:09.782851",
          "status": "completed"
        },
        "tags": [],
        "id": "1aeb7145"
      },
      "outputs": [],
      "source": [
        "air_passengers[\"1952\"].plot(kind=\"bar\", color=\"tab:green\", legend=False);"
      ]
    },
    {
      "cell_type": "markdown",
      "source": [
        "By looking at the above plots we can see that our time-series is multiplicative time-series and has both trend as well as seasonality. We can see the trend as passengers are constantly increasing over time. We can see seasonality with the same variations repeating for 1 year where value peaks somewhere are around August."
      ],
      "metadata": {
        "id": "M0nCK31jBPhz"
      },
      "id": "M0nCK31jBPhz"
    },
    {
      "cell_type": "markdown",
      "source": [
        "**Decompose Time-Series to See Components (Trend, Seasonality, Noise, etc)**\n",
        "\n",
        "We can decompose time-series to see various components of time-series. Python module named statmodels provides us with easy to use utility which we can use to get an individual component of time-series and then visualize it."
      ],
      "metadata": {
        "id": "ysAjXoYqBTn9"
      },
      "id": "ysAjXoYqBTn9"
    },
    {
      "cell_type": "code",
      "source": [
        "#import seasonal decomposing using statsmodel and seasonal decompose"
      ],
      "metadata": {
        "id": "Jc6n2Ujm8qKe"
      },
      "id": "Jc6n2Ujm8qKe",
      "execution_count": null,
      "outputs": []
    },
    {
      "cell_type": "code",
      "source": [
        "decompose_result = # perform seasonal decomposing using multiplicative model type\n",
        "\n",
        "trend = # get trend\n",
        "seasonal = #get seasonal\n",
        "residual = #get residual\n",
        "\n",
        "#plot the decompose result"
      ],
      "metadata": {
        "id": "-76e5amF9ImH"
      },
      "id": "-76e5amF9ImH",
      "execution_count": null,
      "outputs": []
    },
    {
      "cell_type": "markdown",
      "source": [
        "We can notice trend and seasonality components separately as well as residual components. There is a loss of residual in the beginning which is settling later.\n",
        "\n"
      ],
      "metadata": {
        "id": "7Qgok-xLBqrz"
      },
      "id": "7Qgok-xLBqrz"
    },
    {
      "cell_type": "markdown",
      "source": [
        "**Checking Whether Time-Series is Stationary or Not**\n",
        "\n",
        "As we declared above time-series is stationary whose mean, variance and auto-covariance are independent of time. We can check mean, variance and auto-covariance using moving window functions available with pandas. We'll also use a dicky-fuller test available with statsmodels to check the stationarity of time-series. If time-series is not stationary then we need to make it stationary.\n",
        "\n",
        "Below we have taken an average over moving window of 12 samples. We noticed from the above plots that there is the seasonality of 12 months in time-series. We can try different window sizes for testing purposes."
      ],
      "metadata": {
        "id": "DCpRfGA6BuDA"
      },
      "id": "DCpRfGA6BuDA"
    },
    {
      "cell_type": "code",
      "source": [
        "air_passengers.rolling(window = 12).mean().plot(figsize=(8,4), color=\"tab:red\", title=\"Rolling Mean over 12 month period\");"
      ],
      "metadata": {
        "id": "Jyrmc6Hy9Qjt"
      },
      "id": "Jyrmc6Hy9Qjt",
      "execution_count": null,
      "outputs": []
    },
    {
      "cell_type": "code",
      "execution_count": null,
      "id": "4b0b398c",
      "metadata": {
        "execution": {
          "iopub.execute_input": "2022-01-31T06:22:09.874197Z",
          "iopub.status.busy": "2022-01-31T06:22:09.873056Z",
          "iopub.status.idle": "2022-01-31T06:22:09.897249Z",
          "shell.execute_reply": "2022-01-31T06:22:09.897893Z",
          "shell.execute_reply.started": "2022-01-31T06:21:27.200042Z"
        },
        "papermill": {
          "duration": 0.054274,
          "end_time": "2022-01-31T06:22:09.898094",
          "exception": false,
          "start_time": "2022-01-31T06:22:09.843820",
          "status": "completed"
        },
        "tags": [],
        "id": "4b0b398c"
      },
      "outputs": [],
      "source": [
        "#same as above apply the rolling mean for 20 month period"
      ]
    },
    {
      "cell_type": "markdown",
      "source": [
        "We can clearly see that time-series has a visible upward trend.\n",
        "\n",
        "Below we have taken variance over the moving window of 12 samples. We noticed from the above plots that there is the seasonality of 12 months in time-series"
      ],
      "metadata": {
        "id": "h2XVlxivCFsA"
      },
      "id": "h2XVlxivCFsA"
    },
    {
      "cell_type": "code",
      "execution_count": null,
      "id": "67cb5abf",
      "metadata": {
        "execution": {
          "iopub.execute_input": "2022-01-31T06:22:10.001385Z",
          "iopub.status.busy": "2022-01-31T06:22:10.000624Z",
          "iopub.status.idle": "2022-01-31T06:22:10.009806Z",
          "shell.execute_reply": "2022-01-31T06:22:10.008989Z",
          "shell.execute_reply.started": "2022-01-31T06:21:27.227161Z"
        },
        "papermill": {
          "duration": 0.041954,
          "end_time": "2022-01-31T06:22:10.010026",
          "exception": false,
          "start_time": "2022-01-31T06:22:09.968072",
          "status": "completed"
        },
        "tags": [],
        "id": "67cb5abf"
      },
      "outputs": [],
      "source": [
        "# same as above instead of rolling mean now calculate the variance for 12 months"
      ]
    },
    {
      "cell_type": "code",
      "execution_count": null,
      "id": "f8ed1e57",
      "metadata": {
        "execution": {
          "iopub.execute_input": "2022-01-31T06:22:10.068256Z",
          "iopub.status.busy": "2022-01-31T06:22:10.067492Z",
          "iopub.status.idle": "2022-01-31T06:22:10.076153Z",
          "shell.execute_reply": "2022-01-31T06:22:10.077130Z",
          "shell.execute_reply.started": "2022-01-31T06:21:27.240873Z"
        },
        "papermill": {
          "duration": 0.04175,
          "end_time": "2022-01-31T06:22:10.077406",
          "exception": false,
          "start_time": "2022-01-31T06:22:10.035656",
          "status": "completed"
        },
        "tags": [],
        "id": "f8ed1e57"
      },
      "outputs": [],
      "source": [
        "# same as above instead of rolling mean now calculate the variance for 20 months"
      ]
    },
    {
      "cell_type": "markdown",
      "source": [
        "From the above two plots, we notice that time series has some kind of multiplicative effect which seems to be increasing with time period. We can see the low seasonality effect at the beginning which amplifies over time.\n",
        "\n",
        "Below we are also plotting an auto-correlation plot for time-series data as well. This plot helps us understand whether present values of time series are positively correlated, negatively correlated, or not related at all to past values. statsmodels library provides ready to use method plot_acf as a part of module statsmodels.graphics.tsaplots."
      ],
      "metadata": {
        "id": "F0ACU_LnCUee"
      },
      "id": "F0ACU_LnCUee"
    },
    {
      "cell_type": "code",
      "execution_count": null,
      "id": "241dce65",
      "metadata": {
        "execution": {
          "iopub.execute_input": "2022-01-31T06:22:10.145161Z",
          "iopub.status.busy": "2022-01-31T06:22:10.131474Z",
          "iopub.status.idle": "2022-01-31T06:22:10.149015Z",
          "shell.execute_reply": "2022-01-31T06:22:10.149589Z",
          "shell.execute_reply.started": "2022-01-31T06:21:27.260628Z"
        },
        "papermill": {
          "duration": 0.045912,
          "end_time": "2022-01-31T06:22:10.149799",
          "exception": false,
          "start_time": "2022-01-31T06:22:10.103887",
          "status": "completed"
        },
        "tags": [],
        "id": "241dce65"
      },
      "outputs": [],
      "source": [
        "#using from statsmodels.graphics.tsaplots import the autocorrelation function (plot_acf )\n",
        "\n",
        "\n",
        "plot_acf(air_passengers);"
      ]
    },
    {
      "cell_type": "markdown",
      "source": [
        "We can notice from the above chart that after 13 lags, the line gets inside confidence interval (light blue area). This can be due to seasonality of 12-13 months in our data."
      ],
      "metadata": {
        "id": "CH6XlW9NCeWV"
      },
      "id": "CH6XlW9NCeWV"
    },
    {
      "cell_type": "markdown",
      "source": [
        "**Dicky-Fuller Test for Stationarity**\n",
        "Once we have removed trend and seasonality from time-series data then we can test its stationarity using a dicky-fuller test. It's a statistical test to check the stationarity of time-series data.\n",
        "\n",
        "Further Read About Test\n",
        "\n",
        "We can perform Dicky-Fuller test functionality available with the statsmodels library.\n",
        "\n",
        "Below we'll test the stationarity of our time-series with this functionality and try to interpret its results to better understand it."
      ],
      "metadata": {
        "id": "HFtvuh2HChos"
      },
      "id": "HFtvuh2HChos"
    },
    {
      "cell_type": "code",
      "execution_count": null,
      "id": "6b427a65",
      "metadata": {
        "execution": {
          "iopub.execute_input": "2022-01-31T06:22:10.203838Z",
          "iopub.status.busy": "2022-01-31T06:22:10.203030Z",
          "iopub.status.idle": "2022-01-31T06:22:10.215456Z",
          "shell.execute_reply": "2022-01-31T06:22:10.216089Z",
          "shell.execute_reply.started": "2022-01-31T06:21:27.283239Z"
        },
        "papermill": {
          "duration": 0.041077,
          "end_time": "2022-01-31T06:22:10.216293",
          "exception": false,
          "start_time": "2022-01-31T06:22:10.175216",
          "status": "completed"
        },
        "tags": [],
        "id": "6b427a65"
      },
      "outputs": [],
      "source": [
        "from statsmodels.tsa.stattools import adfuller\n",
        "\n",
        "dftest = adfuller(air_passengers['#Passengers'], autolag = 'AIC')\n",
        "\n",
        "print(\"1. ADF : \",dftest[0])\n",
        "print(\"2. P-Value : \", dftest[1])\n",
        "print(\"3. Num Of Lags : \", dftest[2])\n",
        "print(\"4. Num Of Observations Used For ADF Regression and Critical Values Calculation :\", dftest[3])\n",
        "print(\"5. Critical Values :\")\n",
        "for key, val in dftest[4].items():\n",
        "    print(\"\\t\",key, \": \", val)"
      ]
    },
    {
      "cell_type": "markdown",
      "source": [
        "We can interpret above results based on p-values of result.\n",
        "\n",
        "p-value > 0.05 - This implies that time-series is non-stationary.\n",
        "p-value <=0.05 - This implies that time-series is stationary.\n",
        "We can see from the above results that p-value is greater than 0.05 hence our time-series is not stationary. It still has time-dependent components present which we need to remove."
      ],
      "metadata": {
        "id": "6a4QWLKICxo2"
      },
      "id": "6a4QWLKICxo2"
    },
    {
      "cell_type": "markdown",
      "source": [
        "**Remove Trend**\n",
        "There are various ways to remove trends from data as we have discussed above. We'll try ways like differencing, power transformation, log transformation, etc."
      ],
      "metadata": {
        "id": "vn_EQ1SKC3Aq"
      },
      "id": "vn_EQ1SKC3Aq"
    },
    {
      "cell_type": "markdown",
      "source": [
        "**Logged Transformation**\n",
        "\n",
        "To apply log transformation, we need to take a log of each individual value of time-series data.\n"
      ],
      "metadata": {
        "id": "AW4REIeMC-F6"
      },
      "id": "AW4REIeMC-F6"
    },
    {
      "cell_type": "code",
      "source": [
        "logged_passengers = air_passengers[\"#Passengers\"].apply(lambda x : np.log(x))\n",
        "\n",
        "ax1 = plt.subplot(121)\n",
        "logged_passengers.plot(figsize=(12,4) ,color=\"tab:red\", title=\"Log Transformed Values\", ax=ax1);\n",
        "ax2 = plt.subplot(122)\n",
        "air_passengers.plot(color=\"tab:red\", title=\"Original Values\", ax=ax2);"
      ],
      "metadata": {
        "id": "MElAizWXDJZd"
      },
      "id": "MElAizWXDJZd",
      "execution_count": null,
      "outputs": []
    },
    {
      "cell_type": "markdown",
      "source": [
        "From the above first chart, we can see that we have reduced the variance of time-series data. We can look at y-values of original time-series data and log-transformed time-series data to conclude that the variance of time-series is reduced.\n",
        "\n",
        "We can check whether we are successful or not by checking individual components of time-series by decomposing it as we had done above."
      ],
      "metadata": {
        "id": "WrU2HazJDSam"
      },
      "id": "WrU2HazJDSam"
    },
    {
      "cell_type": "code",
      "source": [
        "# perform seasonal decompose on logged transformed"
      ],
      "metadata": {
        "id": "DW9iLRCWDWcq"
      },
      "id": "DW9iLRCWDWcq",
      "execution_count": null,
      "outputs": []
    },
    {
      "cell_type": "markdown",
      "source": [
        "**Power Transformations**\n",
        "We can apply power transformation in data same way as that of log transformation to remove trend."
      ],
      "metadata": {
        "id": "BP6SmM5KDfDB"
      },
      "id": "BP6SmM5KDfDB"
    },
    {
      "cell_type": "code",
      "execution_count": null,
      "id": "a733bc33",
      "metadata": {
        "execution": {
          "iopub.execute_input": "2022-01-31T06:22:10.271892Z",
          "iopub.status.busy": "2022-01-31T06:22:10.271001Z",
          "iopub.status.idle": "2022-01-31T06:22:10.281142Z",
          "shell.execute_reply": "2022-01-31T06:22:10.281713Z",
          "shell.execute_reply.started": "2022-01-31T06:21:27.300058Z"
        },
        "papermill": {
          "duration": 0.040504,
          "end_time": "2022-01-31T06:22:10.281948",
          "exception": false,
          "start_time": "2022-01-31T06:22:10.241444",
          "status": "completed"
        },
        "tags": [],
        "id": "a733bc33"
      },
      "outputs": [],
      "source": [
        "# perform power transform using (lambda x : x ** 0.5)\n",
        "\n",
        "# plot the curve for the same"
      ]
    },
    {
      "cell_type": "markdown",
      "source": [
        "From the above first chart, we can see that we have reduced the variance of time-series data. We can look at y-values of original time-series data and power-transformed time-series data to conclude that the variance of time-series is reduced.\n",
        "\n",
        "We can check whether we are successful or not by checking individual components of time-series by decomposing it as we had done above."
      ],
      "metadata": {
        "id": "4qQAcVGeDuCx"
      },
      "id": "4qQAcVGeDuCx"
    },
    {
      "cell_type": "code",
      "source": [
        "# perform seasonal decompose on logged transformed"
      ],
      "metadata": {
        "id": "F6_J7HhKDx-j"
      },
      "id": "F6_J7HhKDx-j",
      "execution_count": null,
      "outputs": []
    },
    {
      "cell_type": "markdown",
      "source": [
        "**Applying Moving Window Functions**\n",
        "We can calculate rolling mean over a period of 12 months and subtract it from original time-series to get de-trended time-series."
      ],
      "metadata": {
        "id": "lzDIGaIID4Vt"
      },
      "id": "lzDIGaIID4Vt"
    },
    {
      "cell_type": "code",
      "execution_count": null,
      "id": "a2c8325e",
      "metadata": {
        "execution": {
          "iopub.execute_input": "2022-01-31T06:22:10.337958Z",
          "iopub.status.busy": "2022-01-31T06:22:10.335283Z",
          "iopub.status.idle": "2022-01-31T06:22:11.600928Z",
          "shell.execute_reply": "2022-01-31T06:22:11.600209Z",
          "shell.execute_reply.started": "2022-01-31T06:21:27.375969Z"
        },
        "papermill": {
          "duration": 1.293986,
          "end_time": "2022-01-31T06:22:11.601103",
          "exception": false,
          "start_time": "2022-01-31T06:22:10.307117",
          "status": "completed"
        },
        "tags": [],
        "id": "a2c8325e"
      },
      "outputs": [],
      "source": [
        "rolling_mean = air_passengers.rolling(window = 12).mean()\n",
        "passengers_rolled_detrended = air_passengers - rolling_mean\n",
        "\n",
        "ax1 = plt.subplot(121)\n",
        "passengers_rolled_detrended.plot(figsize=(12,4),color=\"tab:red\", title=\"Differenced With Rolling Mean over 12 month\", ax=ax1);\n",
        "ax2 = plt.subplot(122)\n",
        "air_passengers.plot(figsize=(12,4), color=\"tab:red\", title=\"Original Values\", ax=ax2);"
      ]
    },
    {
      "cell_type": "markdown",
      "source": [
        "From the above the first chart, we can see that we seem to have removed trend from time-series data.\n",
        "\n",
        "We can check whether we are successful or not by checking individual components of time-series by decomposing it as we had done above."
      ],
      "metadata": {
        "id": "Ohifo-TLEEoT"
      },
      "id": "Ohifo-TLEEoT"
    },
    {
      "cell_type": "code",
      "execution_count": null,
      "id": "3a3e38fc",
      "metadata": {
        "execution": {
          "iopub.execute_input": "2022-01-31T06:22:11.663582Z",
          "iopub.status.busy": "2022-01-31T06:22:11.662414Z",
          "iopub.status.idle": "2022-01-31T06:22:11.993652Z",
          "shell.execute_reply": "2022-01-31T06:22:11.992322Z",
          "shell.execute_reply.started": "2022-01-31T06:21:28.444245Z"
        },
        "papermill": {
          "duration": 0.367463,
          "end_time": "2022-01-31T06:22:11.993866",
          "exception": false,
          "start_time": "2022-01-31T06:22:11.626403",
          "status": "completed"
        },
        "tags": [],
        "id": "3a3e38fc"
      },
      "outputs": [],
      "source": [
        "# perform seasonal decompose on logged transformed"
      ]
    },
    {
      "cell_type": "markdown",
      "source": [
        "**Applying Moving Window Function on Log Transformed Time-Series**\n",
        "\n",
        "We can apply more than one transformation as well. We'll first apply log transformation to time-series, then take a rolling mean over a period of 12 months and then subtract rolled time-series from log-transformed time-series to get final time-series."
      ],
      "metadata": {
        "id": "Jcf6u3vrEPN2"
      },
      "id": "Jcf6u3vrEPN2"
    },
    {
      "cell_type": "code",
      "execution_count": null,
      "id": "e8801fab",
      "metadata": {
        "execution": {
          "iopub.execute_input": "2022-01-31T06:22:12.076784Z",
          "iopub.status.busy": "2022-01-31T06:22:12.075629Z",
          "iopub.status.idle": "2022-01-31T06:22:12.669070Z",
          "shell.execute_reply": "2022-01-31T06:22:12.669614Z",
          "shell.execute_reply.started": "2022-01-31T06:21:28.763354Z"
        },
        "papermill": {
          "duration": 0.648654,
          "end_time": "2022-01-31T06:22:12.669817",
          "exception": false,
          "start_time": "2022-01-31T06:22:12.021163",
          "status": "completed"
        },
        "tags": [],
        "id": "e8801fab"
      },
      "outputs": [],
      "source": [
        "# take log transformed and rolling mean for 12 months period time\n",
        "passengers_log_rolled_detrended = logged_passengers[\"#Passengers\"] - rolling_mean[\"#Passengers\"]\n",
        "\n",
        "\n",
        "# plot the passengers_log_rolled_detrended"
      ]
    },
    {
      "cell_type": "markdown",
      "source": [
        "From the above the first chart, we can see that we are able to removed the trend from time-series data.\n",
        "\n",
        "We can check whether we are successful or not by checking individual components of time-series by decomposing it as we had done above."
      ],
      "metadata": {
        "id": "78UnkMZCEbJS"
      },
      "id": "78UnkMZCEbJS"
    },
    {
      "cell_type": "code",
      "execution_count": null,
      "id": "06d71a64",
      "metadata": {
        "execution": {
          "iopub.execute_input": "2022-01-31T06:22:12.759200Z",
          "iopub.status.busy": "2022-01-31T06:22:12.734835Z",
          "iopub.status.idle": "2022-01-31T06:22:13.107474Z",
          "shell.execute_reply": "2022-01-31T06:22:13.106875Z",
          "shell.execute_reply.started": "2022-01-31T06:21:29.365192Z"
        },
        "papermill": {
          "duration": 0.409878,
          "end_time": "2022-01-31T06:22:13.107649",
          "exception": false,
          "start_time": "2022-01-31T06:22:12.697771",
          "status": "completed"
        },
        "tags": [],
        "id": "06d71a64"
      },
      "outputs": [],
      "source": [
        "# perform seasonal decompose on logged transformed"
      ]
    },
    {
      "cell_type": "markdown",
      "source": [
        "**Applying Moving Window Function on Power Transformed Time-Series**\n",
        "\n",
        "We can apply more than one transformation as well. We'll first apply power transformation to time-series, then take a rolling mean over a period of 12 months and then subtract rolled time-series from power-transformed time-series to get final time-series."
      ],
      "metadata": {
        "id": "TEnZiEp9ElN_"
      },
      "id": "TEnZiEp9ElN_"
    },
    {
      "cell_type": "code",
      "source": [
        "\n",
        "passengers_pow_rolled_detrended = # take the difference of power transformed and rolling mean on powered transformed\n"
      ],
      "metadata": {
        "id": "2sWWHiykExd0"
      },
      "id": "2sWWHiykExd0",
      "execution_count": null,
      "outputs": []
    },
    {
      "cell_type": "markdown",
      "source": [
        "From the above the first chart, we can see that we are able to remove the trend from time-series data.\n",
        "\n",
        "We can check whether we are successful or not by checking individual components of time-series by decomposing it as we had done above."
      ],
      "metadata": {
        "id": "j7DwgqQ_E0EL"
      },
      "id": "j7DwgqQ_E0EL"
    },
    {
      "cell_type": "code",
      "source": [
        "# perform seasonal decompose on logged transformed"
      ],
      "metadata": {
        "id": "wmA_H4NAE47_"
      },
      "id": "wmA_H4NAE47_",
      "execution_count": null,
      "outputs": []
    },
    {
      "cell_type": "markdown",
      "source": [
        "**Applying Linear Regression to Remove Trend**\n",
        "\n",
        "We can also apply a linear regression model to remove the trend. Below we are fitting a linear regression model to our time-series data. We are then using a fit model to predict time-series values from beginning to end. We are then subtracting predicted values from original time-series to remove the trend."
      ],
      "metadata": {
        "id": "UvHd6uOSFBay"
      },
      "id": "UvHd6uOSFBay"
    },
    {
      "cell_type": "code",
      "source": [
        "from statsmodels.regression.linear_model import OLS\n",
        "\n",
        "least_squares = OLS(air_passengers[\"#Passengers\"].values, list(range(air_passengers.shape[0])))\n",
        "result = least_squares.fit()\n",
        "\n",
        "fit = pd.Series(result.predict(list(range(air_passengers.shape[0]))), index = air_passengers.index)\n",
        "\n",
        "passengers_ols_detrended = air_passengers[\"#Passengers\"] - fit\n",
        "\n",
        "\n",
        "# plot the reggressed model"
      ],
      "metadata": {
        "id": "377rNsPcFO_d"
      },
      "id": "377rNsPcFO_d",
      "execution_count": null,
      "outputs": []
    },
    {
      "cell_type": "markdown",
      "source": [
        "From the above the first chart, we can see that we are able to remove the trend from time-series data.\n",
        "\n",
        "We can check whether we are successful or not by checking individual components of time-series by decomposing it as we had done above."
      ],
      "metadata": {
        "id": "YSIx3Fj0FUyy"
      },
      "id": "YSIx3Fj0FUyy"
    },
    {
      "cell_type": "code",
      "execution_count": null,
      "id": "6db54652",
      "metadata": {
        "execution": {
          "iopub.execute_input": "2022-01-31T06:22:13.261084Z",
          "iopub.status.busy": "2022-01-31T06:22:13.228106Z",
          "iopub.status.idle": "2022-01-31T06:22:13.664010Z",
          "shell.execute_reply": "2022-01-31T06:22:13.663385Z",
          "shell.execute_reply.started": "2022-01-31T06:21:29.732583Z"
        },
        "papermill": {
          "duration": 0.468905,
          "end_time": "2022-01-31T06:22:13.664173",
          "exception": false,
          "start_time": "2022-01-31T06:22:13.195268",
          "status": "completed"
        },
        "tags": [],
        "id": "6db54652"
      },
      "outputs": [],
      "source": [
        "# perform seasonal decompose on logged transformed"
      ]
    },
    {
      "cell_type": "markdown",
      "source": [
        "After applying the above transformations, we can say that linear regression seems to have done a good job of removing the trend than other methods. We can confirm it further whether it actually did good by removing the seasonal component and checking stationarity of time-series."
      ],
      "metadata": {
        "id": "n_jLnMoAFdq_"
      },
      "id": "n_jLnMoAFdq_"
    },
    {
      "cell_type": "markdown",
      "source": [
        "**Remove Seasonality**\n",
        "We can remove seasonality by differencing technique. We'll use differencing over various de-trended time-series calculated above.\n",
        "\n",
        "**Differencing Over Log Transformed Time-Series**\n",
        "We have applied differencing to log-transformed time-series by shifting its value by 1 period and subtracting it from original log-transformed time-series"
      ],
      "metadata": {
        "id": "hAo8GU7lFiXl"
      },
      "id": "hAo8GU7lFiXl"
    },
    {
      "cell_type": "code",
      "source": [
        "logged_passengers_diff = logged_passengers - logged_passengers.shift()\n",
        "\n",
        "# plot the logged_passengers_diff;"
      ],
      "metadata": {
        "id": "4ZJUyu5tFyjR"
      },
      "id": "4ZJUyu5tFyjR",
      "execution_count": null,
      "outputs": []
    },
    {
      "cell_type": "markdown",
      "source": [
        "We can now test whether our time-series is stationary of now by applying the dicky-fuller test which we had applied above."
      ],
      "metadata": {
        "id": "Cc3fp3lKF3cK"
      },
      "id": "Cc3fp3lKF3cK"
    },
    {
      "cell_type": "code",
      "source": [
        "# perform the ADF test"
      ],
      "metadata": {
        "id": "VqQj_VjUF9s7"
      },
      "id": "VqQj_VjUF9s7",
      "execution_count": null,
      "outputs": []
    },
    {
      "cell_type": "markdown",
      "source": [
        "From our dicky-fuller test results, we can confirm that time-series is NOT STATIONARY due to the p-value of 0.07 greater than 0.05."
      ],
      "metadata": {
        "id": "ieer0yCSGB24"
      },
      "id": "ieer0yCSGB24"
    },
    {
      "cell_type": "markdown",
      "source": [
        "**Differencing Over Power Transformed Time-Series**\n",
        "\n",
        "We have applied differencing to power transformed time-series by shifting its value by 1 period and subtracting it from original power transformed time-series"
      ],
      "metadata": {
        "id": "Bg5CpQBGGUW8"
      },
      "id": "Bg5CpQBGGUW8"
    },
    {
      "cell_type": "code",
      "source": [
        "powered_passengers_diff = powered_passengers - powered_passengers.shift()\n",
        "\n",
        "# plot"
      ],
      "metadata": {
        "id": "RQTYQGt9GRgk"
      },
      "id": "RQTYQGt9GRgk",
      "execution_count": null,
      "outputs": []
    },
    {
      "cell_type": "markdown",
      "source": [
        "We can now test whether our time-series is stationary of now by applying the dicky-fuller test which we had applied above."
      ],
      "metadata": {
        "id": "0GBzzBSeGlLo"
      },
      "id": "0GBzzBSeGlLo"
    },
    {
      "cell_type": "code",
      "execution_count": null,
      "id": "85414180",
      "metadata": {
        "execution": {
          "iopub.execute_input": "2022-01-31T06:22:13.763279Z",
          "iopub.status.busy": "2022-01-31T06:22:13.752120Z",
          "iopub.status.idle": "2022-01-31T06:22:14.005454Z",
          "shell.execute_reply": "2022-01-31T06:22:14.005973Z",
          "shell.execute_reply.started": "2022-01-31T06:21:30.149573Z"
        },
        "papermill": {
          "duration": 0.310608,
          "end_time": "2022-01-31T06:22:14.006183",
          "exception": false,
          "start_time": "2022-01-31T06:22:13.695575",
          "status": "completed"
        },
        "tags": [],
        "id": "85414180"
      },
      "outputs": [],
      "source": [
        "# perform ADF test"
      ]
    },
    {
      "cell_type": "markdown",
      "id": "4d779e30",
      "metadata": {
        "papermill": {
          "duration": 0.032131,
          "end_time": "2022-01-31T06:22:14.069640",
          "exception": false,
          "start_time": "2022-01-31T06:22:14.037509",
          "status": "completed"
        },
        "tags": [],
        "id": "4d779e30"
      },
      "source": [
        "From our dicky-fuller test results, we can confirm that time-series is STATIONARY due to a p-value of 0.02 less than 0.05."
      ]
    },
    {
      "cell_type": "markdown",
      "source": [
        "**Differencing Over Time-Series with Rolling Mean taken over 12 Months**\n",
        "\n",
        "We have applied differencing to mean rolled time-series by shifting its value by 1 period and subtracting it from original mean rolled time-series"
      ],
      "metadata": {
        "id": "MCSRh_5JHEeK"
      },
      "id": "MCSRh_5JHEeK"
    },
    {
      "cell_type": "code",
      "source": [
        "# plot and calculate the rolled detrended diff"
      ],
      "metadata": {
        "id": "3m4s2YLJHN4Z"
      },
      "id": "3m4s2YLJHN4Z",
      "execution_count": null,
      "outputs": []
    },
    {
      "cell_type": "markdown",
      "source": [
        "We can now test whether our time-series is stationary of now by applying the dicky-fuller test which we had applied above."
      ],
      "metadata": {
        "id": "DhDBSgWtHU_2"
      },
      "id": "DhDBSgWtHU_2"
    },
    {
      "cell_type": "code",
      "execution_count": null,
      "id": "b8226ab0",
      "metadata": {
        "execution": {
          "iopub.execute_input": "2022-01-31T06:22:14.202540Z",
          "iopub.status.busy": "2022-01-31T06:22:14.201832Z",
          "iopub.status.idle": "2022-01-31T06:22:14.417833Z",
          "shell.execute_reply": "2022-01-31T06:22:14.418746Z",
          "shell.execute_reply.started": "2022-01-31T06:21:30.411014Z"
        },
        "papermill": {
          "duration": 0.254713,
          "end_time": "2022-01-31T06:22:14.419070",
          "exception": false,
          "start_time": "2022-01-31T06:22:14.164357",
          "status": "completed"
        },
        "tags": [],
        "id": "b8226ab0"
      },
      "outputs": [],
      "source": [
        "# perform ADF test"
      ]
    },
    {
      "cell_type": "markdown",
      "source": [
        "From our dicky-fuller test results, we can confirm that time-series is STATIONARY due to a p-value of 0.02 less than 0.05."
      ],
      "metadata": {
        "id": "LAGcrw5ZHfk3"
      },
      "id": "LAGcrw5ZHfk3"
    },
    {
      "cell_type": "code",
      "execution_count": null,
      "id": "d70d55d7",
      "metadata": {
        "execution": {
          "iopub.execute_input": "2022-01-31T06:22:14.561383Z",
          "iopub.status.busy": "2022-01-31T06:22:14.560695Z",
          "iopub.status.idle": "2022-01-31T06:22:14.786074Z",
          "shell.execute_reply": "2022-01-31T06:22:14.786680Z",
          "shell.execute_reply.started": "2022-01-31T06:21:30.608281Z"
        },
        "papermill": {
          "duration": 0.267044,
          "end_time": "2022-01-31T06:22:14.786909",
          "exception": false,
          "start_time": "2022-01-31T06:22:14.519865",
          "status": "completed"
        },
        "tags": [],
        "id": "d70d55d7"
      },
      "outputs": [],
      "source": [
        "# diffrence the log rolled detrended diff and plot"
      ]
    },
    {
      "cell_type": "markdown",
      "id": "1fcd6f2f",
      "metadata": {
        "papermill": {
          "duration": 0.032849,
          "end_time": "2022-01-31T06:22:14.853890",
          "exception": false,
          "start_time": "2022-01-31T06:22:14.821041",
          "status": "completed"
        },
        "tags": [],
        "id": "1fcd6f2f"
      },
      "source": [
        "We can now test whether our time-series is stationary of now by applying the dicky-fuller test which we had applied above."
      ]
    },
    {
      "cell_type": "code",
      "execution_count": null,
      "id": "05a53b3e",
      "metadata": {
        "execution": {
          "iopub.execute_input": "2022-01-31T06:22:14.925522Z",
          "iopub.status.busy": "2022-01-31T06:22:14.924313Z",
          "iopub.status.idle": "2022-01-31T06:22:14.957471Z",
          "shell.execute_reply": "2022-01-31T06:22:14.958007Z",
          "shell.execute_reply.started": "2022-01-31T06:21:30.882774Z"
        },
        "papermill": {
          "duration": 0.07108,
          "end_time": "2022-01-31T06:22:14.958241",
          "exception": false,
          "start_time": "2022-01-31T06:22:14.887161",
          "status": "completed"
        },
        "tags": [],
        "id": "05a53b3e"
      },
      "outputs": [],
      "source": [
        "# perform ADF test"
      ]
    },
    {
      "cell_type": "markdown",
      "source": [
        "From our dicky-fuller test results, we can confirm that time-series is STATIONARY due to a p-value of 0.001 less than 0.05."
      ],
      "metadata": {
        "id": "GGRrm4LSHxtg"
      },
      "id": "GGRrm4LSHxtg"
    },
    {
      "cell_type": "markdown",
      "source": [
        "**Differencing Over Power Transformed & Mean Rolled Time-Series**\n",
        "\n",
        "We have applied differencing to power transformed & mean rolled time-series by shifting its value by 1 period and subtracting it from original time-series"
      ],
      "metadata": {
        "id": "blto5iFxH1VM"
      },
      "id": "blto5iFxH1VM"
    },
    {
      "cell_type": "code",
      "source": [
        "# take the differrence of linear regressed transformed with a shift and then plot"
      ],
      "metadata": {
        "id": "_Ne8y0n_H-N7"
      },
      "id": "_Ne8y0n_H-N7",
      "execution_count": null,
      "outputs": []
    },
    {
      "cell_type": "markdown",
      "source": [
        "We can now test whether our time-series is stationary of now by applying the dicky-fuller test which we had applied above."
      ],
      "metadata": {
        "id": "n0bfYoNTIC7C"
      },
      "id": "n0bfYoNTIC7C"
    },
    {
      "cell_type": "code",
      "source": [
        "# perform ADF test"
      ],
      "metadata": {
        "id": "gzcPjdGrIHnC"
      },
      "id": "gzcPjdGrIHnC",
      "execution_count": null,
      "outputs": []
    },
    {
      "cell_type": "markdown",
      "source": [
        "From our dicky-fuller test results, we can confirm that time-series is STATIONARY due to a p-value of 0.005 less than 0.05."
      ],
      "metadata": {
        "id": "nIG__f0hINsX"
      },
      "id": "nIG__f0hINsX"
    },
    {
      "cell_type": "markdown",
      "source": [
        "**Differencing Over Linear Regression Transformed Time-Series**\n",
        "\n",
        "We have applied differencing to linear regression transformed time-series by shifting it's value by 1 period and subtracting it from original log-transformed time-series"
      ],
      "metadata": {
        "id": "HzRzjSGnITA-"
      },
      "id": "HzRzjSGnITA-"
    },
    {
      "cell_type": "code",
      "source": [
        "# take the differrence of linear regressed transformed with a shift and then plot\n"
      ],
      "metadata": {
        "id": "q1fKHDUpHw_V"
      },
      "id": "q1fKHDUpHw_V",
      "execution_count": null,
      "outputs": []
    },
    {
      "cell_type": "markdown",
      "source": [
        "We can now test whether our time-series is stationary of now by applying the dicky-fuller test which we had applied above"
      ],
      "metadata": {
        "id": "PQaxLx_KIiw4"
      },
      "id": "PQaxLx_KIiw4"
    },
    {
      "cell_type": "code",
      "execution_count": null,
      "id": "abfa4643",
      "metadata": {
        "execution": {
          "iopub.execute_input": "2022-01-31T06:22:15.029652Z",
          "iopub.status.busy": "2022-01-31T06:22:15.028616Z",
          "iopub.status.idle": "2022-01-31T06:22:15.067094Z",
          "shell.execute_reply": "2022-01-31T06:22:15.067667Z",
          "shell.execute_reply.started": "2022-01-31T06:21:30.918559Z"
        },
        "papermill": {
          "duration": 0.076244,
          "end_time": "2022-01-31T06:22:15.067889",
          "exception": false,
          "start_time": "2022-01-31T06:22:14.991645",
          "status": "completed"
        },
        "tags": [],
        "id": "abfa4643"
      },
      "outputs": [],
      "source": [
        "# perform ADF test"
      ]
    },
    {
      "cell_type": "markdown",
      "source": [
        "From our dicky-fuller test results, we can confirm that time-series is NOT STATIONARY due to the p-value of 0.054 greater than 0.05.\n",
        "\n",
        "This is the end!!!!"
      ],
      "metadata": {
        "id": "_tuBtGBrIqNL"
      },
      "id": "_tuBtGBrIqNL"
    }
  ],
  "metadata": {
    "kernelspec": {
      "display_name": "Python 3",
      "language": "python",
      "name": "python3"
    },
    "language_info": {
      "codemirror_mode": {
        "name": "ipython",
        "version": 3
      },
      "file_extension": ".py",
      "mimetype": "text/x-python",
      "name": "python",
      "nbconvert_exporter": "python",
      "pygments_lexer": "ipython3",
      "version": "3.7.12"
    },
    "papermill": {
      "default_parameters": {},
      "duration": 18.685113,
      "end_time": "2022-01-31T06:22:17.152802",
      "environment_variables": {},
      "exception": null,
      "input_path": "__notebook__.ipynb",
      "output_path": "__notebook__.ipynb",
      "parameters": {},
      "start_time": "2022-01-31T06:21:58.467689",
      "version": "2.3.3"
    },
    "colab": {
      "provenance": []
    }
  },
  "nbformat": 4,
  "nbformat_minor": 5
}